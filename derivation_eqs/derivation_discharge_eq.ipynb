{
 "cells": [
  {
   "cell_type": "markdown",
   "metadata": {},
   "source": [
    "# Introduction\n",
    "\n",
    "This is a notebook for the derivation of the transient water & sediment discharge equation in response to draining an initial water volume V0 in a channel. To be used for simulating overland flow in the groundwater flow and erosion model"
   ]
  },
  {
   "cell_type": "markdown",
   "metadata": {},
   "source": [
    "## Derivation of the discharge equation\n",
    "\n",
    "Discharge is calculated using the Gauckler-Manning equation:\n",
    "\n",
    "$$v = K_n R^{2/3} S^{1/2}$$\n",
    "\n",
    "where $v$ is the mean flow velocity in a stream channel (m s^-1), Kn is an empirical coefficeint (units....), R is hydraulic radius (m) and S is the slope of the water surface, which is taken as equal to the slope of the channel bed (m m^-1) (ref).\n",
    "\n",
    "with $R \\approx h$ and $C_1 = K_n S^{1/2}$ the equation can be simplified to:\n",
    "\n",
    "$$v = C_1 h^{2/3}$$\n",
    "\n",
    "where $h$ is the water height in the channel (m).\n",
    "\n",
    "The total discharge Qw (m3 s^-1) is equal to the product of the flow velocity (v) and the cross-sectional area $A$ (m2):\n",
    "\n",
    "$$Q_w = A C_1 h^{2/3}$$\n",
    "\n",
    "for a triangular shape of the channel, with a linear transverse slope $S_t$ (m/m), the area can be defined as:\n",
    "\n",
    "$$A = \\dfrac{1}{S_t} h^2$$\n",
    "\n",
    "and the discharge equation can be rewritten as:\n",
    "\n",
    "$$Q_w = C_2 h^{8/3}$$\n",
    "\n",
    "where $C_2 = \\dfrac{C_1}{S_t}$\n",
    "\n",
    "\n",
    "# Calculating stream discharge over time\n",
    "\n",
    "The continuity equation for discharge of a stream channel is given by:\n",
    "\n",
    "$$\\dfrac{\\partial V_w}{\\partial t} = -Q_w$$\n",
    "\n",
    "where $V_w$ is the water volume in the channel (m^3^).\n",
    "\n",
    "Inserting the equation for discharge that was derived above yields:\n",
    "\n",
    "$$\\dfrac{\\partial V_w}{\\partial t} = -\\dfrac{C_1}{S_t}$$\n",
    "\n",
    "We first define the volume to be discharged as the product of a cross-section area that changes over time and a fixed stream length $L$ (m):\n",
    "\n",
    "$$V_w = A L$$\n",
    "\n",
    "again assuming that the shape of the channel is a triangle:\n",
    "\n",
    "$$A = \\dfrac{1}{S_t} h^2$$\n",
    "\n",
    "inserting this into the continuity equation yields:\n",
    "\n",
    "$$\\dfrac{L}{S_t} \\dfrac{\\partial h^2}{\\partial t} = -C_2 h^{8/3}$$\n",
    "\n",
    "replacing $h^2$ by $u$ and reorganizing the equation gives:\n",
    "\n",
    "$$\\dfrac{1}{S_t} \\dfrac{\\partial u}{\\partial t} = -C_2 u^{4/3}$$\n",
    "\n",
    "more rearranging gives:\n",
    "\n",
    "$$u^{-4/3} \\partial u = -C_3  \\partial t$$\n",
    "\n",
    "where $C_3 = C_2 * S_t / L$\n",
    "\n",
    "integration gives:\n",
    "\n",
    "$$-3 u^{-1/3} = -C_3 t + C_4$$\n",
    "\n",
    "where $C_4$ is the new integration constant.\n",
    "\n",
    "For $u=u_0$ at $t=0$, and therefore:\n",
    "\n",
    "$C_4 = -3 u_0^{-1/3}$\n",
    "\n",
    "The equation for the change in u over time becomes:\n",
    "\n",
    "$$u = \\dfrac{1}{u_0^{-1/3} + C_5 t}^3$$\n",
    "\n",
    "where $C_5 = C_3 / 3$\n",
    "\n",
    "replacing u by $h^2$ and $u_0$ by $h_0^2$:\n",
    "\n",
    "$$h = \\left( h_0^{-2/3} + C_5 t \\right)^{(-3/2)}$$\n",
    "\n",
    "The initial heigh of the water level in the channel (h0) is a function of the additional water to be discharged (V_0), the lenght of the channel (L), the channel shape and the baseflow (hb). For a triangular channel with transverse slope S_t the total volume in the channel is:\n",
    "\n",
    "$$V_t = \\dfrac{h_0^2 L}{S_t}$$\n",
    "\n",
    "\n",
    "The volume in the channel contains a steady baseflow component Vb:\n",
    "\n",
    "$$V_b = \\dfrac{h_b^2 L}{S_t}$$\n",
    "\n",
    "However, we ignore this for now, assuming that the volume of water to be discharge is much larger than the volume in the channel ($V_0 >> V_b$). Therefore:\n",
    "\n",
    "$$V_0 = \\dfrac{h_0^2 L}{S_t}$$\n",
    "\n",
    "which can be rewritten to yield h:\n",
    "\n",
    "$$h_0 = \\sqrt(V_0 S_t / L)$$\n",
    "\n",
    "The constant $C_5$ consists of the following parameters:\n",
    "\n",
    "$$C_5 = \\dfrac{K_n S^{1/2}}{3 L}$$ \n",
    "\n",
    "adding this back into the equation yields an expression for the decrease of water depth in a channel over time in response to drainage of an initial volume V0:\n",
    "\n",
    "$$h = \\left( \\dfrac{V_0 S_t}{L}^{-1/3} + \\dfrac{K_n S^{1/2}}{3 L} t \\right)^{(-3/2)}$$\n"
   ]
  },
  {
   "cell_type": "markdown",
   "metadata": {},
   "source": [
    "## Implementing the analytical equation in Python:"
   ]
  },
  {
   "cell_type": "code",
   "execution_count": 13,
   "metadata": {
    "collapsed": false,
    "jupyter": {
     "outputs_hidden": false
    }
   },
   "outputs": [],
   "source": [
    "%matplotlib inline\n",
    "\n",
    "import string\n",
    "import numpy as np\n",
    "import matplotlib.pyplot as pl\n",
    "\n",
    "pl.rcParams['mathtext.default'] = 'regular'\n",
    "\n",
    "# set up parameters:\n",
    "\n",
    "# setup an array for time (sec)\n",
    "n_timesteps = 20000\n",
    "dt = 1.0\n",
    "t = np.arange(n_timesteps) * dt\n",
    "\n",
    "# manning constant\n",
    "Km = 25.0\n",
    "\n",
    "# channel slope (m/m)\n",
    "S = 0.02\n",
    "\n",
    "# transverse slope of the channel bed\n",
    "St = 0.05\n",
    "\n",
    "# upstream length of channel (m)\n",
    "L = 10000.0\n",
    "\n",
    "# instantaneous prepitation excess (m)\n",
    "P = 0.0365\n",
    "\n",
    "# length of contributing area to saturation overland flow (m)\n",
    "Ls = 100.0\n",
    "\n",
    "# calculate initial volume in channel\n",
    "V0 = L * Ls * P\n",
    "\n",
    "# and initial height and width of the channel\n",
    "h0 = (V0 * St / L)**0.5\n",
    "w0 = h0 / St"
   ]
  },
  {
   "cell_type": "code",
   "execution_count": 14,
   "metadata": {},
   "outputs": [],
   "source": [
    "# calculate equation constants for analytical equation\n",
    "C5 = Km * S**0.5 / (3 * L)\n",
    "u0 = h0**2"
   ]
  },
  {
   "cell_type": "code",
   "execution_count": 15,
   "metadata": {
    "collapsed": false,
    "jupyter": {
     "outputs_hidden": false
    }
   },
   "outputs": [],
   "source": [
    "# analytical solution for decay of h over time:\n",
    "u = (1.0 / (u0**(-1/3.) + C5 * t)) ** 3\n",
    "h = u**(0.5)\n",
    "\n",
    "# faster way: directly calculate h:\n",
    "h2 = (1.0 / (h0**(-2/3.) + C5 * t)) ** 1.5"
   ]
  },
  {
   "cell_type": "markdown",
   "metadata": {},
   "source": [
    "## Checking analytical discharge solution:\n",
    "\n",
    "We check the analytical solution against numerical solution of discharge equation, ie change in h over time. The numerical solution takes the initial water volume, calculates the water level and channel width (eqs ...) and calculates discharge at each timestep using the Gauckler-Manning equation."
   ]
  },
  {
   "cell_type": "code",
   "execution_count": 16,
   "metadata": {},
   "outputs": [],
   "source": [
    "# calculate some constants for the numerical solution:\n",
    "V = V0\n",
    "\n",
    "Vs = np.zeros(n_timesteps)\n",
    "Vs[0] = V\n",
    "hs = np.zeros_like(Vs)\n",
    "ws = np.zeros_like(Vs)\n",
    "Qws = np.zeros_like(Vs)\n",
    "\n",
    "V0_2d = V0 / L\n",
    "hs[0] = np.sqrt(V0_2d * St)\n",
    "\n",
    "for timestep in range(1, n_timesteps):\n",
    "\n",
    "    # calculate h in a triangular channel, assume that the upstream contributing area \n",
    "    # stays the same?\n",
    "    V_2d = Vs[timestep-1] / L\n",
    "    \n",
    "    # calculate the water height, assuming a triangular channel shape\n",
    "    hs[timestep] = np.sqrt(V_2d * St)\n",
    "\n",
    "    # calculate the width of the channel (w)\n",
    "    w = hs[timestep] / St\n",
    "\n",
    "    ws[timestep] = w\n",
    "    \n",
    "    # calculate the cross-sectional area\n",
    "    #A = 0.5 * hs[timestep] * w\n",
    "    A = hs[timestep] * w\n",
    "\n",
    "    #\n",
    "    R = hs[timestep]\n",
    "\n",
    "    # calculate Q using the Gauckler-Manning eq:\n",
    "    Q = Km * A * S**0.5 * hs[timestep]**(2/3.)\n",
    "    #C2 = Km * S**0.5 / St\n",
    "    #Q = C2 * hs[timestep]**(8/3.0)\n",
    "    Qws[timestep] = Q\n",
    "    \n",
    "    # todo: check why the two Qs are not the same??\n",
    "    \n",
    "    # calculate change in V over one timestep, by removing Q\n",
    "    Vs[timestep] = Vs[timestep - 1] - Q * dt\n"
   ]
  },
  {
   "cell_type": "code",
   "execution_count": 17,
   "metadata": {
    "collapsed": false,
    "jupyter": {
     "outputs_hidden": false
    }
   },
   "outputs": [
    {
     "data": {
      "image/png": "[encoded data removed]",
      "text/plain": [
       "<Figure size 432x432 with 3 Axes>"
      ]
     },
     "metadata": {
      "needs_background": "light"
     },
     "output_type": "display_data"
    }
   ],
   "source": [
    "# make a figure of the results:\n",
    "fig, axs = pl.subplots(3, 1, figsize=(6, 6), sharex=True)\n",
    "\n",
    "axs[0].plot(t, hs, color='orange', ls = '-', lw=2.0, label='numerical solution')\n",
    "axs[0].plot(t, h2, color='blue', ls='--', lw=1.5, label='analytical solution')\n",
    "\n",
    "axs[1].plot(t[1:], Qws[1:], color='orange')\n",
    "\n",
    "axs[2].plot(t, Vs, color='orange')\n",
    "\n",
    "#axs[0].set_xlabel('Time (sec)')\n",
    "axs[0].set_ylabel('Water depth ($m$)')\n",
    "\n",
    "#axs[1].set_xlabel('Time (sec)')\n",
    "axs[1].set_ylabel(r'Discharge ($m^3 s^{-1}$)')\n",
    "\n",
    "axs[2].set_xlabel('Time (sec)')\n",
    "axs[2].set_ylabel(r'Water volume in stream ($m^3$)')\n",
    "\n",
    "axs[0].legend(loc='upper right')\n",
    "\n",
    "for ax in axs:\n",
    "    #ax.set_xlim(0, t.max())\n",
    "    ax.set_yscale('log')\n",
    "    #ax.axhline(y=0, color='black', lw=0.5)\n",
    "    \n",
    "for i, panel in enumerate(axs):\n",
    "    panel.spines['top'].set_visible(False)\n",
    "    panel.spines['right'].set_visible(False)\n",
    "    panel.text(0.03, 1.01, string.ascii_lowercase[i], \n",
    "            weight='bold', transform=panel.transAxes, ha='left', va='bottom')\n",
    "\n",
    "fig.tight_layout()\n",
    "\n",
    "fig.savefig('fig/validation_transient_discharge_eq.pdf')"
   ]
  },
  {
   "cell_type": "markdown",
   "metadata": {},
   "source": [
    "**Figure caption:** *Comparison of numerical and analytical solution of water depth (h) in a channel following the discharge over time of an initial water volume in this channel (V0). The analytical and numerical solutions match perfectly (pfew)*"
   ]
  },
  {
   "cell_type": "markdown",
   "metadata": {},
   "source": [
    "## Adding erosion\n",
    "\n",
    "Next step: calculate erosion flux (Qs) over time:\n",
    "\n",
    "Following Tucker & Bras (1998) the sediment flux in channels (Q_s, units....) is related to discharge by:\n",
    "\n",
    "$$Q_s = k_f S^n Q_w^m$$\n",
    "\n",
    "where subscripts s and w denote the flux of sediment and water, respectively. S is channel bed slope (m m^-1) and k_f (a m^-3), m and n are empirical coefficients.\n",
    "\n",
    "Following the equations for channel discharge (eq ...) *Q_w* is related to teh water level in the channel *h* by:\n",
    "\n",
    "$$Q_w = C_2 h^{8/3}$$\n",
    "\n",
    "inserting the equation for discharge over time (eq ...) into this equation yields:\n",
    "\n",
    "$$Q_w = C_2 \\left( h_0^{-2/3} + C_5 t \\right)^{(-4)}$$\n",
    "\n",
    "Adding the new expression for channel discharge to the sediment discharge equation yields:\n",
    "\n",
    "$$Q_s = k_f S^n C_2^m \\left( h_0^{-2/3} + C_5 t \\right)^{(-4m)}$$\n",
    "\n",
    "adding back the constants C_2 and C_5, and the initial volume V_0\n",
    "\n",
    "$$C_2 = K_n S^{1/2} / S_t$$\n",
    "\n",
    "$$C_5 = \\dfrac{K_n S^{1/2}}{3 L}$$ \n",
    "\n",
    "$$V_0 = \\dfrac{h_0^2 L}{S_t}$$\n",
    "\n",
    "yields the final sediment flux equation:\n",
    "\n",
    "$$Q_s = k_f S^n (K_n S^{1/2} /S_t)^m \\left( (\\dfrac{V_0 S_t}{L})^{-1/3} + \\dfrac{K_n S^{1/2}}{3 L} t \\right)^{-4m}$$\n",
    "\n"
   ]
  },
  {
   "cell_type": "code",
   "execution_count": 18,
   "metadata": {},
   "outputs": [
    {
     "name": "stdout",
     "output_type": "stream",
     "text": [
      "kf = 3.16e-01\n"
     ]
    },
    {
     "data": {
      "image/png": "[encoded data removed]",
      "text/plain": [
       "<Figure size 432x288 with 2 Axes>"
      ]
     },
     "metadata": {
      "needs_background": "light"
     },
     "output_type": "display_data"
    }
   ],
   "source": [
    "S = 0.01\n",
    "\n",
    "# Tucker & Brass (1988) kf = 10^-8 yr m^-3\n",
    "year = 365.24 * 24 * 3600.\n",
    "kf = 1e-8 * year\n",
    "\n",
    "print('kf = %0.2e' % kf)\n",
    "\n",
    "# m = n = 2 (Tucker and Bras 1998, WRR)\n",
    "m = 2\n",
    "n = 2\n",
    "\n",
    "Qs = kf * S**n * Qws**m\n",
    "\n",
    "fig, axs = pl.subplots(2, 1, figsize=(6, 4), sharex=True)\n",
    "\n",
    "axs[0].plot(t / 3600., Qws)\n",
    "\n",
    "axs[1].plot(t / 3600., Qs)\n",
    "\n",
    "axs[-1].set_xlabel('Time (hr)')\n",
    "axs[0].set_ylabel(r'Water discharge ($m^3 s^{-1}$)')\n",
    "axs[1].set_ylabel('Sediment discharge ($m^3 s^{-1}$)')\n",
    "\n",
    "for ax in axs:\n",
    "    ax.set_xlim(0, t.max() / 3600.)\n",
    "    #ax.axhline(y=0, color='black', lw=0.5)\n",
    "    ax.set_yscale('log')\n",
    "\n",
    "for i, panel in enumerate(axs):\n",
    "    panel.spines['top'].set_visible(False)\n",
    "    panel.spines['right'].set_visible(False)\n",
    "    panel.text(0.03, 0.95, string.ascii_lowercase[i], \n",
    "            weight='bold', transform=panel.transAxes, ha='left', va='bottom')\n",
    "\n",
    "fig.tight_layout()\n",
    "\n",
    "fig.savefig('fig/example_water_and_sed_discharge_over_time.pdf')"
   ]
  },
  {
   "cell_type": "markdown",
   "metadata": {},
   "source": [
    "**Fig. caption** *Calculated water discharge and sediment flux for the test case*"
   ]
  },
  {
   "cell_type": "markdown",
   "metadata": {},
   "source": [
    "## Calculate integrated sediment flux\n",
    "\n",
    "Integration of the sediment flux over time. We first simplify the sediment flux a equation by introducing new constants:\n",
    "\n",
    "$$a =  k_f S^n (K_n S^{1/2} / S_t)^m$$\n",
    "$$b = \\dfrac{V_0 S_t}{L}^{-1/3}$$\n",
    "$$c = \\dfrac{K_n S^{1/2}}{3 L}$$\n",
    "\n",
    "Using these transforms the sediment discharge eq to:\n",
    "\n",
    "$$Q_s = a (b + c t)^{-4m}$$\n",
    "\n",
    "integration from t=0 to t=t1 yields\n",
    "\n",
    "$$V_s = \\left[\\dfrac{a (b + c t)^{(-4m+1)}}{-4m c + c} \\right]_0^{t_1} $$\n",
    "\n",
    "or \n",
    "\n",
    "$$V_s = \\dfrac{a (b + c t_1)^{(-4m+1)}}{-4m c + c} - \\dfrac{a (b + c)^{(-4m+1)}}{-4m c + c} $$\n",
    "\n",
    "where $V_s$ is the eroded sediment volume\n",
    "\n",
    "which for $t1 = \\inf$ can be reduced to:\n",
    "\n",
    "$$V_s = \\dfrac{a (b + c)^{(-4m+1)}}{4m c + c} $$"
   ]
  },
  {
   "cell_type": "markdown",
   "metadata": {},
   "source": [
    "## Validate against numerical integration\n",
    "\n"
   ]
  },
  {
   "cell_type": "code",
   "execution_count": 19,
   "metadata": {},
   "outputs": [
    {
     "data": {
      "image/png": "[encoded data removed]",
      "text/plain": [
       "<Figure size 432x288 with 1 Axes>"
      ]
     },
     "metadata": {
      "needs_background": "light"
     },
     "output_type": "display_data"
    }
   ],
   "source": [
    "def calculate_sediment_flux(t, a, b, c, m):\n",
    "    \n",
    "    return a * (b + c * t) ** (-4*m)\n",
    "\n",
    "t0 = 0\n",
    "\n",
    "t1 = 1e4\n",
    "\n",
    "S = 0.01\n",
    "\n",
    "# Tucker & Brass (1988) kf = 10^-8 yr m^-3\n",
    "year = 365.24 * 24 * 3600.\n",
    "kf = 1e-8 * year\n",
    "\n",
    "# m = n = 2 (Tucker and Bras 1998, WRR)\n",
    "m = 2\n",
    "n = 2\n",
    "\n",
    "# calculate constants in equation:\n",
    "a = kf * S**n * (Km *S**0.5 / St)**m\n",
    "b = ((V0 * St) / L) ** (-1./3.)\n",
    "c = (Km * S**0.5) / (3 * L)\n",
    "\n",
    "# Calculate sediment flux over time directly\n",
    "#ts = np.linspace(0, 1e5, 1e4)\n",
    "Qs = calculate_sediment_flux(t, a, b, c, m)\n",
    "\n",
    "# Calculate indirectly using Qw\n",
    "C1 = Km * S**0.5\n",
    "C2 = C1 / St\n",
    "Qw = C2 * h2 **(8.0/3.0)\n",
    "Qw2 = C2 * (h0**(-2./3.) + C5 * t)**(-4)\n",
    "\n",
    "# alternative ways to calculate Qs, for doule checking if solution is correct:\n",
    "Qs1 = kf * S**n * Qw**m\n",
    "Qs2 = kf * S**n * C2**m * (h0**(-2./3.) + C5*t)**(-4*m)\n",
    "\n",
    "fig, ax = pl.subplots(1, 1)\n",
    "ax.plot(t, np.log10(Qw), color='blue', label='water')\n",
    "ax.plot(t, np.log10(Qs), color='brown', label='sediment')\n",
    "ax.plot(t, np.log10(Qs1), color='gray', ls='--', label='sediment, alternative solution 1')\n",
    "ax.plot(t, np.log10(Qs2), color='black', ls=':', label='sediment, alternative solution 2')\n",
    "\n",
    "ax.legend(loc='center right', frameon=False)\n",
    "ax.set_ylabel(r'Log-transformed flux ($m^3 s^{-1}$)')\n",
    "\n",
    "ax.set_xlabel('Time (s)')\n",
    "\n",
    "fig.savefig('')"
   ]
  },
  {
   "cell_type": "markdown",
   "metadata": {},
   "source": [
    "**Figure caption** *Calculated change in water and sediment flux (Qw and Qs)(m3 s-1) over time using the numerical solution*"
   ]
  },
  {
   "cell_type": "markdown",
   "metadata": {},
   "source": [
    "## Check equation for integrated total sediment flux:\n",
    "\n",
    "Equation for total sediment flux (for see derivation see separate box above):\n",
    "\n",
    "$$V_s = \\dfrac{a (b + c t1)^{(-4m+1)}}{-4m c + c} - \\dfrac{a (b + c)^{(-4m+1)}}{-4m c + c} $$"
   ]
  },
  {
   "cell_type": "code",
   "execution_count": 20,
   "metadata": {},
   "outputs": [
    {
     "name": "stdout",
     "output_type": "stream",
     "text": [
      "Numerically integrated water flux = 2.58e+04 m^3, which should be equal to V0 = 3.65e+04 m^3\n",
      "Integrated sediment flux from t=0.00 to t=inf\n",
      "numerical integration: 2.56e+00 m^3\n",
      "analytical integration: 2.56e+00 m^3\n"
     ]
    }
   ],
   "source": [
    "import scipy.integrate\n",
    "\n",
    "def water_flux(t, h0, C2, C5):\n",
    "    Qw = C2 * (h0**(-2./3.) + C5 * t)**(-4)\n",
    "    \n",
    "    return Qw\n",
    "\n",
    "\n",
    "def int_term(tx, a, b, c, m):\n",
    "    \n",
    "    Vint = a * (b + c * tx) ** (-4*m+1) / (-4*m*c + c)\n",
    "    \n",
    "    return Vint\n",
    "\n",
    "t1 = 0\n",
    "t2 = np.inf\n",
    "Vsn = scipy.integrate.quad(calculate_sediment_flux, t1, t2, args=(a, b, c, m))\n",
    "\n",
    "Vsa = int_term(np.inf, a, b, c, m) - int_term(t1, a, b, c, m)\n",
    "\n",
    "Vwn = scipy.integrate.quad(water_flux, t1, t2, args=(h0, C2, C5))\n",
    "\n",
    "print('Numerically integrated water flux = %0.2e m^3, which should be equal to V0 = %0.2e m^3' % (Vwn[0], V0))\n",
    "print('Integrated sediment flux from t=%0.2f to t=%0.2f' % (t1, t2))\n",
    "print('numerical integration: %0.2e m^3' % Vsn[0])\n",
    "print('analytical integration: %0.2e m^3' % Vsa)\n"
   ]
  },
  {
   "cell_type": "markdown",
   "metadata": {},
   "source": [
    "## Set up of function for sediment flux as response to rainfall event"
   ]
  },
  {
   "cell_type": "code",
   "execution_count": 21,
   "metadata": {},
   "outputs": [],
   "source": [
    "def calculate_sediment_flux_overland_flow(V0, L, S, St, kf, Km, n, m):\n",
    "    \"\"\"\n",
    "    \n",
    "    \n",
    "    V0 : initial volume of water to be discharged (m3)\n",
    "    L : Length of channel\n",
    "    S : Slope of channel bed\n",
    "    St : Teansverse slope of channel bed, assuming a triangular channel shape\n",
    "    kf : empirical coefficient in sediment discharge equation (units...)\n",
    "    Km : empirical coefficient in the Gauckler-Manning equation (units....)\n",
    "    n : empirical coefficient in sediment discharge equation (units...)\n",
    "    m : empirical coefficient in sediment discharge equation (units...)\n",
    "    \"\"\"\n",
    "    \n",
    "    t0 = np.inf\n",
    "    t1 = 0.0\n",
    "    \n",
    "    # calculate constants in equation:\n",
    "    a = kf * S**n * (Km *S**0.5 / St)**m\n",
    "    b = ((V0 * St) / L) ** (-1./3.)\n",
    "    c = (Km * S**0.5) / (3 * L)\n",
    "    \n",
    "    Vsa = a * (b + c * t0) ** (-4*m+1) / (-4*m*c + c) - a * (b + c * t1) ** (-4*m+1) / (-4*m*c + c)\n",
    "    \n",
    "    return Vsa"
   ]
  },
  {
   "cell_type": "markdown",
   "metadata": {},
   "source": [
    "## Sensitivity analysis of sediment discharge using new function"
   ]
  },
  {
   "cell_type": "code",
   "execution_count": 22,
   "metadata": {},
   "outputs": [],
   "source": [
    "# Fixed parameters\n",
    "\n",
    "# Tucker & Brass (1988) kf = 10^-8 yr m^-3\n",
    "year = 365.24 * 24 * 3600.\n",
    "kf = 1e-8 * year\n",
    "\n",
    "# manning constant\n",
    "Km = 1.0 / 0.035\n",
    "\n",
    "# channel slope (m/m)\n",
    "S = 0.01\n",
    "\n",
    "# transverse slope of the channel bed\n",
    "St = 0.05\n",
    "\n",
    "# upstream length of channel (m)\n",
    "L = 10000.0\n",
    "\n",
    "# instantaneous prepitation excess (m)\n",
    "P = 0.05 \n",
    "\n",
    "# length of contributing area to saturation overland flow (m)\n",
    "Ls = 100.0\n",
    "\n",
    "V0 = P * Ls * L"
   ]
  },
  {
   "cell_type": "code",
   "execution_count": 23,
   "metadata": {},
   "outputs": [],
   "source": [
    "# Variable parameters\n",
    "\n",
    "Ps = np.arange(10, 210, 10) * 1e-3\n",
    "V0s = Ps * Ls * L\n",
    "\n",
    "Ss = np.arange(1e-3, 1e-1, 1e-3)\n",
    "\n",
    "L_s = np.arange(1000, 5e4, 1e3)\n",
    "V0s2 = P * Ls * L_s\n",
    "\n",
    "Sts = np.arange(1e-2, 1e-1, 1e-2)"
   ]
  },
  {
   "cell_type": "markdown",
   "metadata": {},
   "source": [
    "## Calculate sediment flux for different test cases:"
   ]
  },
  {
   "cell_type": "code",
   "execution_count": 24,
   "metadata": {},
   "outputs": [],
   "source": [
    "sed_fluxes_base = calculate_sediment_flux_overland_flow(V0, L, S, St, kf, Km, n, m)\n",
    "sed_fluxes_s1 = np.array([calculate_sediment_flux_overland_flow(V0i, L, S, St, kf, Km, n, m) \n",
    "                          for V0i in V0s])\n",
    "sed_fluxes_s2 = np.array([calculate_sediment_flux_overland_flow(V0, L, Si, St, kf, Km, n, m) \n",
    "                          for Si in Ss])\n",
    "sed_fluxes_s3 = np.array([calculate_sediment_flux_overland_flow(V0i, Li, S, St, kf, Km, n, m) \n",
    "                          for Li, V0i in zip(L_s, V0s2)])\n",
    "sed_fluxes_s4 = np.array([calculate_sediment_flux_overland_flow(V0, L, S, Sti, kf, Km, n, m) \n",
    "                          for Sti in Sts])\n"
   ]
  },
  {
   "cell_type": "markdown",
   "metadata": {},
   "source": [
    "## Make figures of the sensitivity of sediment flux to different parameters"
   ]
  },
  {
   "cell_type": "code",
   "execution_count": 25,
   "metadata": {},
   "outputs": [
    {
     "data": {
      "image/png": "[encoded data removed]",
      "text/plain": [
       "<Figure size 576x288 with 4 Axes>"
      ]
     },
     "metadata": {
      "needs_background": "light"
     },
     "output_type": "display_data"
    }
   ],
   "source": [
    "fig, axs_init = pl.subplots(2, 2, figsize=(8, 4))\n",
    "\n",
    "axs = axs_init.ravel()\n",
    "\n",
    "axs[0].plot(Ps, sed_fluxes_s1)\n",
    "axs[0].scatter([P], [sed_fluxes_base], marker='*', s=100)\n",
    "\n",
    "axs[1].plot(Ss, sed_fluxes_s2)\n",
    "axs[1].scatter([S], [sed_fluxes_base], marker='*', s=100)\n",
    "\n",
    "axs[2].plot(L_s, sed_fluxes_s3)\n",
    "axs[2].scatter([L], [sed_fluxes_base], marker='*', s=100)\n",
    "\n",
    "axs[3].plot(Sts, sed_fluxes_s4)\n",
    "axs[3].scatter([St], [sed_fluxes_base], marker='*', s=100)\n",
    "\n",
    "axs[0].set_xlabel('Precipitation excess (m)')\n",
    "axs[1].set_xlabel(r'Channel slope ($m m^{-1}$)')\n",
    "axs[2].set_xlabel('Channel length (m)')\n",
    "axs[3].set_xlabel(r'Transverse channel slope ($m m^{-1}$)')\n",
    "\n",
    "for ax in axs:\n",
    "    ax.set_ylabel(r'Total sediment flux ($m^3$)')\n",
    "    ax.set_yscale('log')\n",
    "\n",
    "for i, panel in enumerate(axs):\n",
    "    panel.spines['top'].set_visible(False)\n",
    "    panel.spines['right'].set_visible(False)\n",
    "    panel.text(0.03, 0.95, string.ascii_lowercase[i], \n",
    "            weight='bold', transform=panel.transAxes, ha='left', va='bottom')\n",
    "    \n",
    "fig.tight_layout()\n",
    "\n",
    "fig.savefig('fig/transient_sediment_discharge_sensitivity.pdf')"
   ]
  },
  {
   "cell_type": "markdown",
   "metadata": {},
   "source": [
    "**Figure caption** *Calculated sensitivity of sediment discharge volume in a channel in response to the discharge of an instantaneous precipitation excess. The star denotes the base case*"
   ]
  },
  {
   "cell_type": "markdown",
   "metadata": {},
   "source": [
    "# References\n",
    "\n",
    "Tucker, G.E., and Bras, R.L., 1998, Hillslope processes, drainage density and landscape morphology: Water Resources Research, v. 34, p. 2751–2764."
   ]
  },
  {
   "cell_type": "code",
   "execution_count": null,
   "metadata": {},
   "outputs": [],
   "source": []
  }
 ],
 "metadata": {
  "celltoolbar": "Raw Cell Format",
  "kernelspec": {
   "display_name": "Python 3",
   "language": "python",
   "name": "python3"
  },
  "language_info": {
   "codemirror_mode": {
    "name": "ipython",
    "version": 3
   },
   "file_extension": ".py",
   "mimetype": "text/x-python",
   "name": "python",
   "nbconvert_exporter": "python",
   "pygments_lexer": "ipython3",
   "version": "3.7.0"
  }
 },
 "nbformat": 4,
 "nbformat_minor": 4
}
