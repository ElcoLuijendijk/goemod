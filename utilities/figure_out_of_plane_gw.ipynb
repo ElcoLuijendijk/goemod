{
 "cells": [
  {
   "cell_type": "code",
   "execution_count": null,
   "metadata": {},
   "outputs": [],
   "source": []
  },
  {
   "cell_type": "code",
   "execution_count": 1,
   "metadata": {},
   "outputs": [],
   "source": [
    "import numpy as np\n",
    "import matplotlib.pyplot as pl\n",
    "\n",
    "pl.rcParams['mathtext.default'] = 'regular'"
   ]
  },
  {
   "cell_type": "code",
   "execution_count": 2,
   "metadata": {},
   "outputs": [],
   "source": [
    "try:\n",
    "    from cmcrameri import cm\n",
    "    cmap = cm.batlow\n",
    "except:\n",
    "    cmap = 'viridis'\n"
   ]
  },
  {
   "cell_type": "code",
   "execution_count": 3,
   "metadata": {},
   "outputs": [],
   "source": [
    "Si = np.linspace(-4, -1, 101)\n",
    "Ti = np.linspace(-7, -1, 101)\n",
    "\n",
    "Sg, Tg = np.meshgrid(Si, Ti)\n",
    "\n",
    "Lu = 5000.0\n",
    "\n",
    "year = 365.25 * 24 * 3600.\n",
    "\n",
    "R = 0.375 / year\n",
    "\n",
    "Qo = 10**Tg * 10**Sg\n",
    "\n",
    "Rt = R * Lu\n",
    "\n",
    "fraction_out = Qo / Rt\n",
    "\n",
    "fraction_out[fraction_out > 1.0] = 1.0"
   ]
  },
  {
   "cell_type": "code",
   "execution_count": null,
   "metadata": {},
   "outputs": [],
   "source": []
  },
  {
   "cell_type": "code",
   "execution_count": 12,
   "metadata": {},
   "outputs": [
    {
     "name": "stderr",
     "output_type": "stream",
     "text": [
      "<ipython-input-12-047514706853>:3: UserWarning: The following kwargs were not used by contour: 'shading'\n",
      "  cf = ax.contourf(10**Sg, 10**Tg, fraction_out, cmap=cmap, shading='auto')\n"
     ]
    },
    {
     "data": {
      "image/png": "[encoded data removed]",
      "text/plain": [
       "<Figure size 432x288 with 2 Axes>"
      ]
     },
     "metadata": {
      "needs_background": "light"
     },
     "output_type": "display_data"
    }
   ],
   "source": [
    "fig, ax = pl.subplots(1, 1, figsize=(6, 4))\n",
    "\n",
    "cf = ax.contourf(10**Sg, 10**Tg, fraction_out, cmap=cmap, shading='auto')\n",
    "\n",
    "cb = fig.colorbar(cf, shrink=0.75)\n",
    "\n",
    "cb.set_label('Fraction out-of-plane\\ngroundwater flow')\n",
    "\n",
    "ax.set_xscale('log')\n",
    "ax.set_yscale('log')\n",
    "\n",
    "ax.set_xlabel(r'Stream slope ($m \\; m^{-1}$)')\n",
    "ax.set_ylabel(r'Transmissivity ($m^2 \\; s^{-1}$)')\n",
    "\n",
    "ax.spines['top'].set_visible(False)\n",
    "ax.spines['right'].set_visible(False)\n",
    "\n",
    "fig.savefig('fig/out_of_plane_gw.pdf')\n",
    "fig.savefig('fig/out_of_plane_gw.png')"
   ]
  },
  {
   "cell_type": "code",
   "execution_count": null,
   "metadata": {},
   "outputs": [],
   "source": []
  }
 ],
 "metadata": {
  "kernelspec": {
   "display_name": "Python 3",
   "language": "python",
   "name": "python3"
  },
  "language_info": {
   "codemirror_mode": {
    "name": "ipython",
    "version": 3
   },
   "file_extension": ".py",
   "mimetype": "text/x-python",
   "name": "python",
   "nbconvert_exporter": "python",
   "pygments_lexer": "ipython3",
   "version": "3.8.5"
  }
 },
 "nbformat": 4,
 "nbformat_minor": 4
}
