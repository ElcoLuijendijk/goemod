{
 "cells": [
  {
   "cell_type": "code",
   "execution_count": null,
   "id": "commercial-quality",
   "metadata": {},
   "outputs": [],
   "source": []
  },
  {
   "cell_type": "code",
   "execution_count": 1,
   "id": "fancy-virgin",
   "metadata": {},
   "outputs": [],
   "source": [
    "import numpy as np\n",
    "import matplotlib.pyplot as pl"
   ]
  },
  {
   "cell_type": "code",
   "execution_count": 2,
   "id": "processed-dominican",
   "metadata": {},
   "outputs": [],
   "source": [
    "def analytical_solution_h_one_side(rch, T, L, x):\n",
    "    dh = rch / T * (L * x - 0.5 * x**2)\n",
    "    \n",
    "    return dh\n",
    "\n",
    "def analytical_solution_h(rch, T, L, x, dH):\n",
    "    \n",
    "    dh = 0.5 * rch/T * x * (L-x) + dH * x /L\n",
    "    \n",
    "    return dh"
   ]
  },
  {
   "cell_type": "code",
   "execution_count": null,
   "id": "bulgarian-gibraltar",
   "metadata": {},
   "outputs": [],
   "source": []
  },
  {
   "cell_type": "code",
   "execution_count": 175,
   "id": "grateful-webmaster",
   "metadata": {},
   "outputs": [],
   "source": [
    "year = 365.25 * 24 * 60 * 60\n",
    "L = 2000.0\n",
    "T = 5e-3\n",
    "rch = 0.25 / year\n",
    "\n",
    "dH = 2.0\n",
    "stream_depth = 0.75\n",
    "rain_depth = 0.75"
   ]
  },
  {
   "cell_type": "code",
   "execution_count": null,
   "id": "continuous-davis",
   "metadata": {},
   "outputs": [],
   "source": []
  },
  {
   "cell_type": "code",
   "execution_count": 176,
   "id": "muslim-locking",
   "metadata": {},
   "outputs": [],
   "source": [
    "x = np.linspace(0, L, 10001)\n"
   ]
  },
  {
   "cell_type": "code",
   "execution_count": null,
   "id": "compact-elephant",
   "metadata": {},
   "outputs": [],
   "source": []
  },
  {
   "cell_type": "code",
   "execution_count": 177,
   "id": "accompanied-vienna",
   "metadata": {},
   "outputs": [],
   "source": [
    "# elevation\n",
    "Kd = 1.1e-6\n",
    "U = 1e-4 / year\n",
    "z = analytical_solution_h_one_side(U, Kd, L, x)\n",
    "\n",
    "# stream elevation\n",
    "stream_h = np.ones_like(z) * stream_depth\n",
    "stream_h[stream_h < z] = np.nan\n",
    "\n",
    "# \n",
    "ind_stream = np.isnan(stream_h) == False\n",
    "stream_width = x[ind_stream].max()\n",
    "\n",
    "\n",
    "L_gw = L - stream_width\n",
    "x_gw = x[ind_stream==False]\n",
    "z_gw = z[ind_stream==False]\n",
    "h = analytical_solution_h_one_side(rch, T, L_gw, x_gw - x_gw.min()) + stream_depth\n",
    "\n",
    "\n",
    "\n",
    "hp = h + rain_depth\n",
    "hp[hp > z_gw] = z_gw[hp > z_gw]\n",
    "\n",
    "#\n",
    "saturated = hp == z_gw\n",
    "z_saturated = z_gw.copy()\n",
    "z_saturated[saturated==False] = np.nan\n"
   ]
  },
  {
   "cell_type": "code",
   "execution_count": 178,
   "id": "knowing-format",
   "metadata": {},
   "outputs": [
    {
     "data": {
      "text/plain": [
       "((9327,),\n",
       " array([0.00000000e+00, 1.15223649e-03, 2.30435775e-03, ...,\n",
       "        5.76147028e+00, 5.76147045e+00, 5.76147051e+00]))"
      ]
     },
     "execution_count": 178,
     "metadata": {},
     "output_type": "execute_result"
    }
   ],
   "source": [
    "hp.shape, z"
   ]
  },
  {
   "cell_type": "code",
   "execution_count": 195,
   "id": "spread-radio",
   "metadata": {},
   "outputs": [],
   "source": [
    "hpe = np.zeros_like(x)\n",
    "hpe[ind_stream==False] = h + rain_depth\n",
    "hpe[ind_stream==True] = stream_h[ind_stream==True] + rain_depth\n",
    "\n",
    "#hpe[stream_he > hpe] = stream_he[stream_he > hpe]\n",
    "#ind = np.isnan(stream_h)\n",
    "#hpe[ind] = hp.min()"
   ]
  },
  {
   "cell_type": "code",
   "execution_count": 196,
   "id": "expanded-generic",
   "metadata": {},
   "outputs": [
    {
     "data": {
      "text/plain": [
       "(10001,)"
      ]
     },
     "execution_count": 196,
     "metadata": {},
     "output_type": "execute_result"
    }
   ],
   "source": [
    "stream_h.shape"
   ]
  },
  {
   "cell_type": "code",
   "execution_count": 197,
   "id": "chief-church",
   "metadata": {},
   "outputs": [],
   "source": [
    "gwcol = 'darkblue'\n",
    "precip_col = 'lightblue'\n",
    "sat_col = 'green'\n",
    "land_col = 'brown'\n",
    "stream_col = 'blue'\n",
    "\n",
    "lws = 2.0"
   ]
  },
  {
   "cell_type": "code",
   "execution_count": 198,
   "id": "specialized-sleeve",
   "metadata": {},
   "outputs": [
    {
     "data": {
      "image/png": "[encoded data removed]",
      "text/plain": [
       "<Figure size 432x288 with 1 Axes>"
      ]
     },
     "metadata": {
      "needs_background": "light"
     },
     "output_type": "display_data"
    }
   ],
   "source": [
    "fig, ax = pl.subplots(1, 1)\n",
    "\n",
    "ax.plot(x_gw, h, color=gwcol)\n",
    "\n",
    "ax.fill_between(x_gw, h, hpe[ind_stream==False], color=precip_col)\n",
    "ax.fill_between(x[ind_stream], stream_h[ind_stream], hpe[ind_stream==True], color=precip_col)\n",
    "\n",
    "ax.plot(x, z, color=land_col)\n",
    "\n",
    "#ax.plot(x_gw, z_saturated, color=sat_col, lw=lws)\n",
    "\n",
    "ax.fill_between(x, z, stream_h, color=stream_col)\n",
    "\n",
    "#xbuf = 1000.0\n",
    "#ax.set_xlim(-xbuf, L + xbuf)\n",
    "\n",
    "ybufs = (2.0, 1.0)\n",
    "ax.set_ylim(z.min() - ybufs[0], z.max() + ybufs[1])\n",
    "\n",
    "ax.set_axis_off()\n",
    "\n",
    "fig.savefig('fig/conceptual_model_fig_erosion.svg')"
   ]
  },
  {
   "cell_type": "code",
   "execution_count": null,
   "id": "injured-accuracy",
   "metadata": {},
   "outputs": [],
   "source": [
    "#hp2 = "
   ]
  },
  {
   "cell_type": "code",
   "execution_count": 199,
   "id": "necessary-external",
   "metadata": {},
   "outputs": [
    {
     "data": {
      "image/png": "[encoded data removed]",
      "text/plain": [
       "<Figure size 432x288 with 1 Axes>"
      ]
     },
     "metadata": {
      "needs_background": "light"
     },
     "output_type": "display_data"
    }
   ],
   "source": [
    "fig, ax = pl.subplots(1, 1)\n",
    "\n",
    "ax.plot(x_gw, h, color=gwcol)\n",
    "\n",
    "ax.fill_between(x_gw, h, hp, color=precip_col)\n",
    "\n",
    "ax.plot(x, z, color=land_col)\n",
    "\n",
    "ax.plot(x_gw, z_saturated, color=sat_col, lw=lws)\n",
    "\n",
    "ax.fill_between(x, z, stream_h, color=stream_col)\n",
    "\n",
    "#xbuf = 1000.0\n",
    "#ax.set_xlim(-xbuf, L + xbuf)\n",
    "\n",
    "ybufs = (2.0, 1.0)\n",
    "ax.set_ylim(z.min() - ybufs[0], z.max() + ybufs[1])\n",
    "\n",
    "ax.set_axis_off()\n",
    "\n",
    "fig.savefig('fig/conceptual_model_fig.svg')"
   ]
  },
  {
   "cell_type": "code",
   "execution_count": null,
   "id": "ranging-science",
   "metadata": {},
   "outputs": [],
   "source": []
  }
 ],
 "metadata": {
  "kernelspec": {
   "display_name": "Python 3",
   "language": "python",
   "name": "python3"
  },
  "language_info": {
   "codemirror_mode": {
    "name": "ipython",
    "version": 3
   },
   "file_extension": ".py",
   "mimetype": "text/x-python",
   "name": "python",
   "nbconvert_exporter": "python",
   "pygments_lexer": "ipython3",
   "version": "3.7.0"
  }
 },
 "nbformat": 4,
 "nbformat_minor": 5
}
