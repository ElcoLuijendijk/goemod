{
 "cells": [
  {
   "cell_type": "markdown",
   "id": "accessory-ground",
   "metadata": {},
   "source": [
    "# Calculate the sediment transport coefficient (kf) using the Einstein-Brown equation, following Boogaart et al. (2003)"
   ]
  },
  {
   "cell_type": "markdown",
   "id": "092b9a73-fa4a-46fc-9bbd-ccb79f9019d0",
   "metadata": {},
   "source": [
    "# Derivation of kf from sediment discharge equations\n",
    "\n",
    "eq. 12 in Bogaart et al. (2003)\n",
    "\n",
    "$$q_{s,m} = 40 \\rho_s F \\sqrt{g (s - 1) d_{50}^3} \\left(\\dfrac{1}{(s-1)d_{50}}\\right)^3 \\times (R/S)^3$$\n",
    "\n",
    "where $q_{s,m}$ is the sediment discharge rate per mass (kg s-1), which can be converted to volume by:\n",
    "\n",
    "$$q_s = q_{s,m} / \\rho_s$$\n",
    "\n",
    "and therefore\n",
    "\n",
    "$$q_{s} = 40 F \\sqrt{g (s - 1) d_{50}^3} \\left(\\dfrac{1}{(s-1)d_{50}}\\right)^3 \\times (R/S)^3$$\n",
    "\n",
    "\n",
    "adding an expression for the variation of the hydraulic radius as a function of discharge yields eq. 14 in Bogaart et al. (2003)\n",
    "\n",
    "$$q_{s,m} = 40 \\rho_s F \\sqrt{g (s - 1) d_{50}^3} \\left(\\dfrac{1}{(s-1)d_{50}}\\right)^3 \\times q^{1.8} n^{1.8} S^{2.1}$$\n",
    "\n",
    "where $q_{s,m}$ is the sediment discharge rate per mass (kg s-1), which can be converted to volume by:\n",
    "\n",
    "$$q_s = q_{s,m} / \\rho_s$$\n",
    "\n",
    "which results in:\n",
    "\n",
    "$$q_s = 40 F \\sqrt{g (s - 1) d_{50}^3} \\left(\\dfrac{1}{(s-1)d_{50}}\\right)^3 \\times q^{1.8} n_m^{1.8} S^{2.1}$$\n",
    "\n",
    "where $n_m$ is Manning's roughness coefficient. and s is specific grain density (dimensionless)\n",
    "\n",
    "where $F$ is defined as:\n",
    "\n",
    "$$F = \\sqrt{\\dfrac{2}{3} + \\dfrac{36v^2}{g d_{50}^3(s-1)}} - \\sqrt{\\dfrac{36v^2}{gd_{50}^3(s-1)}}$$\n",
    "\n",
    "where v is the kinematic viscosity of water ($m^2 s^{-1}$)\n",
    "\n",
    "The sediment discharge equation is:\n",
    "\n",
    "$$q_{s} = k_f q^m S^n$$\n",
    "\n",
    "Combining these two equation yields:\n",
    "\n",
    "$$k_f q^m S^n = 40 F \\sqrt{g (s - 1) d_{50}^3} \\left(\\dfrac{1}{(s-1)d_{50}}\\right)^3 q^{1.8} n_m^{1.8} S^{2.1}$$\n",
    "\n",
    "for $m=1.8$ and $n=2.1$ this yields:\n",
    "\n",
    "$$k_f = 40 F \\sqrt{g (s - 1) d_{50}^3} \\left(\\dfrac{1}{(s-1)d_{50}}\\right)^3 n_m^{1.8}$$\n",
    "\n",
    "\n"
   ]
  },
  {
   "cell_type": "markdown",
   "id": "37c9953c-216f-46a7-b03f-1e1692775198",
   "metadata": {},
   "source": [
    "# Unit checks\n",
    "\n",
    "### eq for sediment grain falling velocity parameter: \n",
    "$$F = \\sqrt{\\dfrac{2}{3} + \\dfrac{36v^2}{g d_{50}^3(s-1)}} - \\sqrt{\\dfrac{36v^2}{gd_{50}^3(s-1)}}$$\n",
    "\n",
    "units:\n",
    "$$F = \\sqrt{ m^2 s^{-1} m^{-1} s^2 m^{-3}} = \\sqrt{m^{-2} s^1} = m^{-1} s^{0.5}$$\n",
    "\n",
    "-> F is mentioned as dimensionless in Bogaart et al. (2003)\n",
    "\n",
    "### equation for k_f, derived from Bogaart et al. (2003): \n",
    "\n",
    "$$k_f = 40 F \\sqrt{g (s - 1) d_{50}^3} \\left(\\dfrac{1}{(s-1)d_{50}}\\right)^3 n_m^{1.8}$$\n",
    "\n",
    "following previous eq. the unit of $n_m$ is $m^{1/3} s^{-1}$ (see notes on tablet).\n",
    "\n",
    "units of $k_f$ if F is dimensionless:\n",
    "$$ x = F m^{0.5} s^{-1} m^{0.5} m^{-3} m^{0.6} s^{-1.8}= F s^{-2.8} m^{-1.4} $$\n",
    "\n",
    "units if F is not dimensionless\n",
    "$$ x = m^{-1} s^{0.5} m^{0.5} s^{-1} m^{0.5} m^{-3} =  s^{-0.5} m^{-3} n_m$$\n",
    "\n",
    "-> odd units, not sure what went wrong here...\n",
    "\n",
    "### equation for k_f in Goemod manuscript:\n",
    "\n",
    "$$Q_s = w k_f (Q_w/w)^m S^n$$\n",
    "\n",
    "units:\n",
    "\n",
    "$$m^3 s^{-1} = m x m^{3m} s^{-m} m^{-m}$$\n",
    "\n",
    "$$x = m^{-1} m^{-3m} s^{m} m^{m} m^{-3} s^{1}$$\n",
    "\n",
    "$$k_f = m^{-4-2m} s^{m+1}$$\n",
    "\n",
    "for m=1.8 (see above) this would yield:\n",
    "\n",
    "$$k_f = m^{-0.4} s^{2.8}$$\n",
    "\n",
    "\n",
    "### simplified sed discharge eq. Goemod manuscript:\n",
    "\n",
    "$$q_s = k_f q_w^m S^n$$\n",
    "\n",
    "units:\n",
    "\n",
    "$$m^2 s^{-1} = k_f m^{2m} s^{-1m}$$\n",
    "\n",
    "$$k_f = m^2 s^{-1} m^{-2m} s^{1m}$$\n",
    "\n",
    "$$k_f = m^{2-2m} s^{-1+m}$$\n",
    "\n",
    "\n",
    "for m=1.8 (see above) this would yield:\n",
    "\n",
    "$$k_f = m^{-1.6} s^{0.8}$$\n",
    "\n",
    "\n",
    "### Original discharge eq 12 in Bogaart et al. (2003), with hydraulic radius:\n",
    "\n",
    "$$q_{s} = 40 F \\sqrt{g (s - 1) d_{50}^3} \\left(\\dfrac{1}{(s-1)d_{50}}\\right)^3 \\times (R/S)^3$$\n",
    "\n",
    "units:\n",
    "\n",
    "$$x = 40 F \\sqrt{(m s^{-2} m^3)} m^{-3} m^3 = 40 F m^2 s^{-1}$$\n",
    "\n",
    "-> ok, this fits. but F should be dimensionless then and it isnt following the eq. in Bogaart et al. (2003)"
   ]
  },
  {
   "cell_type": "code",
   "execution_count": 69,
   "id": "united-occurrence",
   "metadata": {},
   "outputs": [],
   "source": [
    "import numpy as np\n",
    "import matplotlib.pyplot as pl"
   ]
  },
  {
   "cell_type": "markdown",
   "id": "5a7971fb-6bce-489c-acbf-f1e1421cf713",
   "metadata": {},
   "source": [
    "## Variables"
   ]
  },
  {
   "cell_type": "code",
   "execution_count": 70,
   "id": "beautiful-gender",
   "metadata": {},
   "outputs": [],
   "source": [
    "# sediment density\n",
    "rhos = 2650.0\n",
    "rhof = 1000.0\n",
    "# \n",
    "g = 9.81\n",
    "\n",
    "# kinematic viscosity (m2/s) = dynmaic viscosity / density\n",
    "#v = 1.3e-6\n",
    "mu = 1e-4\n",
    "v = mu / rhof\n",
    "\n",
    "# median grain size\n",
    "d50 = 1e-5\n",
    "\n",
    "# porosity\n",
    "phi = 0.2\n",
    "\n",
    "# manning's roughness coefficient\n",
    "Kn = 25.0\n",
    "nm = 1.0 / Kn"
   ]
  },
  {
   "cell_type": "markdown",
   "id": "1d5bd3b8-d86a-4f1a-a28f-21c620346be2",
   "metadata": {},
   "source": [
    "## Calculated sediment transport coefficient following Bogaart et al. (2003)"
   ]
  },
  {
   "cell_type": "code",
   "execution_count": 71,
   "id": "satisfactory-disney",
   "metadata": {},
   "outputs": [],
   "source": [
    "#d50 = 3e-4\n",
    "#d50 = 1e-5\n",
    "\n",
    "# specific sediment grain density\n",
    "s = rhos / rhof\n",
    "\n",
    "# eq. 11\n",
    "q_term = 36 * v**2 / (g * d50**3 * (s - 1))\n",
    "F = np.sqrt(2.0/3.0 + q_term) - np.sqrt(q_term)\n",
    "\n",
    "# eq. 14 in Boogaart et al. (2003)\n",
    "#qf = 40.0 * rhos * F * np.sqrt(g * (s - 1.0) * d50**3) * (1.0 / ((s - 1.0) * d50))**3 * n**1.8\n",
    "\n",
    "#kf_mass = 40.0 * F * rhos * np.sqrt(g * (s - 1.0) * d50**3) * (1.0 / ((s - 1.0) * d50))**3 * nm**1.8\n",
    "\n",
    "kf_vol = 40.0 * F * np.sqrt(g * (s - 1.0) * d50**3) * (1.0 / ((s - 1.0) * d50))**3 * nm**1.8 / (1- phi)\n"
   ]
  },
  {
   "cell_type": "code",
   "execution_count": 72,
   "id": "powerful-biodiversity",
   "metadata": {},
   "outputs": [
    {
     "name": "stdout",
     "output_type": "stream",
     "text": [
      "sediment grain falling velocity parameter = 7.02e-02\n",
      "calculated value of the volumetric sediment transport coefficient = 3.03e+05\n"
     ]
    }
   ],
   "source": [
    "print(f'sediment grain falling velocity parameter = {F:0.2e}')\n",
    "#print(f'calculated value of the sediment transport mass coefficient = {kf_mass:0.2e}')\n",
    "print(f'calculated value of the volumetric sediment transport coefficient = {kf_vol:0.2e}')\n"
   ]
  },
  {
   "cell_type": "markdown",
   "id": "590541ca-0852-4bc8-a4a2-863124d0d389",
   "metadata": {},
   "source": [
    "## Compare with values used in literature\n",
    "\n",
    "Tucker and Bras: \n",
    "$k_f = 1 \\times 10^{-8} a \\; m^{-3} = 0.32 \\; s\\;m^{-3}$"
   ]
  },
  {
   "cell_type": "code",
   "execution_count": 73,
   "id": "incident-slope",
   "metadata": {},
   "outputs": [
    {
     "name": "stdout",
     "output_type": "stream",
     "text": [
      "value qf used by Tucker & Bras 1998 3.16e-01\n"
     ]
    }
   ],
   "source": [
    "year = 365.25 * 24 * 3600\n",
    "\n",
    "qft = 1e-8 * year\n",
    "\n",
    "print(f'value qf used by Tucker & Bras 1998 {qft:0.2e}')"
   ]
  },
  {
   "cell_type": "markdown",
   "id": "6d95cd42-d1f3-497c-af4c-bd761b33ee5d",
   "metadata": {},
   "source": [
    "## New attempt using course notes to double check previous result:\n",
    "\n",
    "Eisnteins eq. \n",
    "\n",
    "$$q^* = 40 K \\tau*^3$$\n",
    "\n",
    "$$K = \\sqrt{\\dfrac{2}{3} + \\dfrac{36}{d*^3}} - \\sqrt{\\dfrac{36}{d*^3}}$$\n",
    "\n",
    "$$d* = d\\left(\\dfrac{(s-1)g}{v^2}\\right)^(1/3)$$\n",
    "\n",
    "$$\\tau* = \\dfrac{\\tau_b}{\\rho_f (s-1) g d}$$\n",
    "\n",
    "$$\\tau = \\rho_f g R S$$\n",
    "\n",
    "$$\\tau* = \\dfrac{\\rho_f g R S}{\\rho_f (s-1) g d}$$\n",
    "\n",
    "-> $$\\tau* = \\dfrac{R}{(s-1) d}$$\n",
    "\n",
    "-> $$q^* = 40 K \\left(\\dfrac{R S}{(s-1) d} \\right)^3$$\n",
    "\n",
    "^\n",
    "\n",
    "$$q* = \\dfrac{q_b}{\\sqrt{(s -1) g d^3}}$$\n",
    "\n",
    "->\n",
    "\n",
    "$$q_b = 40 K (\\dfrac{R S}{(s-1) d})^3 \\sqrt{(s -1) g d^3}$$\n",
    "\n",
    "^\n",
    "$$R = q_w^{0.6} n_m^{0.6} S^{-0.3}$$\n",
    "\n",
    "$$R^3 S^3 = q_w^{1.8} n_m^{1.8} S^{2.1}$$\n",
    "\n",
    "->\n",
    "\n",
    "$$q_b = 40 K (\\dfrac{1}{(s-1) d})^3 \\sqrt{(s -1) g d^3} q_w^{1.8} n_m^{1.8} S^{2.1}$$\n",
    "\n",
    "-> \n",
    "\n",
    "$$k_f = 40 K (\\dfrac{1}{(s-1) d})^3 \\sqrt{(s -1) g d^3} n_m^{1.8}$$\n"
   ]
  },
  {
   "cell_type": "code",
   "execution_count": 75,
   "id": "a9896fad-1406-4233-af5c-95012a728b1d",
   "metadata": {},
   "outputs": [
    {
     "name": "stdout",
     "output_type": "stream",
     "text": [
      "new calculated kf 2.421e+05\n"
     ]
    }
   ],
   "source": [
    "d = d50\n",
    "\n",
    "ds = d * (((s-1) * g) / (v**2))**(1.0/3.0)\n",
    "\n",
    "K = np.sqrt(2.0/3.0 + 36 / (ds**3)) - np.sqrt(36.0/(ds**3))\n",
    "\n",
    "term2 = (1.0 / ((s-1.0)*d))**3\n",
    "\n",
    "term3 = np.sqrt((s - 1) * g * d**3)\n",
    "\n",
    "kf2 = 40 * K * (1.0 / ((s-1.0)*d))**3 * np.sqrt((s - 1) * g * d**3) * nm**1.8\n",
    "\n",
    "print(f'new calculated kf {kf2:0.3e}')\n",
    "\n",
    "#print(term2, term3)"
   ]
  },
  {
   "cell_type": "markdown",
   "id": "fe640510-3277-40f4-86f6-19cd490e1b7e",
   "metadata": {},
   "source": [
    "## Using sed transport eq. in Gasparini et al. (2004)\n",
    "\n",
    "Eq. 4 in Gasparini et al. (2004, https://doi.org/10.1002/esp.1031) and assuming critical shear stress $\\tau_c=0$:\n",
    "\n",
    "$$Q_s = \\dfrac{11.2 W}{(s - 1) g} \\left(\\dfrac{\\tau}{\\rho_f}\\right)^{1.5}$$\n",
    "\n",
    "combining this with expressions for $\\tau$:\n",
    "\n",
    "$$\\tau = \\rho_f g s R$$\n",
    "\n",
    "and expression for $R$:\n",
    "\n",
    "$$R = q_w^{0.6}n_m^{0.6}S^{-0.3}$$\n",
    "\n",
    "->\n",
    "$$q_s = \\dfrac{11.2}{(s - 1) g} \\left(\\dfrac{\\rho_f g s R}{\\rho_f}\\right)^{1.5}$$\n",
    "\n",
    "->\n",
    "$$q_s = \\dfrac{11.2}{(s - 1) g} \\left(g s R\\right)^{1.5}$$\n",
    "\n",
    "$$q_s = \\dfrac{11.2}{(s - 1) g} \\left(g s q_w^{0.6}n_m^{0.6}S^{-0.3}\\right)^{1.5}$$\n",
    "\n",
    "$$q_s = \\dfrac{11.2}{(s - 1) g} g^{1.5} s^{1.5} q_w^{0.9}n_m^{0.9}S^{-0.45}$$\n",
    "\n",
    "$$q_s = \\dfrac{11.2}{(s - 1)} g^{0.5} s^{1.5} q_w^{0.9}n_m^{0.9}S^{-0.45}$$\n",
    "\n",
    "\n",
    "\n",
    "this yields a value for the erosion coefficient in the shape of:\n",
    "\n",
    "$$....$$\n",
    "\n",
    "ok, too bad.cannot factor out discharge water discharge. would need a standard discharge to transform this or such..."
   ]
  },
  {
   "cell_type": "markdown",
   "id": "d0042e67-1e79-4c1f-848a-502ef291d7e0",
   "metadata": {},
   "source": [
    "## Bagnold (1966) equation for sediment transport\n",
    "\n",
    "As used in Kettner & Syvitski (2008) HydroTrend\n",
    "\n",
    "code here: https://github.com/kettner/hydrotrend\n",
    "\n",
    "$$Q_s = \\dfrac{\\rho_s}{\\rho_s - \\rho_f} \\dfrac{\\rho_f g Q_w^\\beta S e_b}{g tan \\lambda}$$\n",
    "\n",
    "$\\rho_s$ is sand density, $\\rho_f$ is fluid density, $e_b$ is bedload efficiency, $S$ is bed slope, $\\beta$ is a bedload rating term, $\\lambda$ is the limiting angle of repose, $u$ is stream velocity\n",
    "\n",
    "in hydrotrend repository: $\\beta = 1$, $\\lambda=32.21$, bedload transport efficiency?\n",
    "\n",
    "-> not using this equation for the moment"
   ]
  },
  {
   "cell_type": "markdown",
   "id": "c19f72fd-102b-4e74-863d-2de622a4645b",
   "metadata": {},
   "source": [
    "## Lammers & Bladsoe (2018)\n",
    "\n",
    "\n",
    "https://doi.org/10.1002/esp.4237\n",
    "\n",
    "https://doi.org/10.1016/j.jhydrol.2018.09.036\n",
    "\n",
    "\n",
    "todo: add $S$ to equation\n",
    "\n",
    "$$Q_t = a \\left(\\omega - \\omega_w\\right)^{3/2} D_s^{-1} q^{-5/6}$$\n",
    "\n",
    "where Q_t is sediment concentration in ppm\n",
    "\n",
    "$$\\omega = \\dfrac{\\rho_f g Q_w S}{w} = \\rho g q_w S$$\n",
    "\n",
    "approximation mentioned in paper by Parker et al. (2011)\n",
    "\n",
    "$$\\omega_c = 0.1$$\n",
    "\n",
    "-> \n",
    "\n",
    "$$Q_t = a \\left(\\rho g q_w S - 0.1\\right)^{3/2} D_s^{-1} q_w^{-5/6}$$\n",
    "\n",
    "$$Q_t = a \\left( \\rho^{3/2} g^{3/2} S^{2/3} - 5\\times 10^{-4} \\right)  D_s^{-1} q_w^{2/3}$$\n",
    "\n",
    "\n",
    "units $\\omega$\n",
    "\n",
    "$$x = kg m^{-3} m s^{-2} m^2 s^{-1} = kg s^{-3}$$\n",
    "\n",
    "ie. units of omega are W m^-2, and therefore a=0.0214\n",
    "\n",
    "proof:\n",
    "\n",
    "$$W = kg m^2 s^{-3}$$\n",
    "\n",
    "$$W m^{-2}= kg m^2 s^{-3} m^{-2} = kg s^{-3}$$\n",
    "\n",
    "$$Q_t = a \\left( \\rho^{3/2} g^{3/2} - \\omega_c^{3/2} \\right)  D_s^{-1} q_w^{2/3}$$\n",
    "\n",
    "eq. for sediment load in kg/m^{-3}:\n",
    "\n",
    "$$Q_c = Q_t \\times 1e3 $$\n",
    "\n",
    "eq. for sediment flux in kg/s^{-1}:\n",
    "\n",
    "$$Q_{s,m} = Q_c Q_w = kg m^{-3} m^3 s^{-1} = kg s^{-1}$$\n",
    "\n",
    "eq. for sediment flux in m3/s^{-1}:\n",
    "\n",
    "$$Q_s = Q_{s,m} / rho_s  $$\n",
    "\n",
    "therefore \n",
    "\n",
    "$$Q_s = Q_t \\times 1e3 * Q_w / \\rho_s$$\n",
    "\n",
    "$$Q_s \\rho_s /(Q_w 1000) = Q_t$$\n",
    "\n",
    "$$Q_s \\rho_s /(Q_w 1000)= a \\left( \\rho^{3/2} g^{3/2} - \\omega_c^{3/2} \\right)  D_s^{-1} q_w^{2/3}$$\n",
    "\n",
    "$$q_s w = \\frac{1000}{\\rho_s} a \\left( \\rho^{3/2} g^{3/2} - \\omega_c^{3/2} \\right)  D_s^{-1} q_w^{2/3} \\times q_w w$$\n",
    "\n",
    "$$q_s = \\frac{1000}{\\rho_s} a \\left( \\rho^{3/2} g^{3/2} - \\omega_c^{3/2} \\right)  D_s^{-1} q_w^{5/3}$$"
   ]
  },
  {
   "cell_type": "markdown",
   "id": "2406e357-4aae-4d06-b52b-67dac79f7d08",
   "metadata": {},
   "source": [
    "## Lammers & Bladsoe (2018) v2\n",
    "\n",
    "$$q_s = 1.43 \\times 10^{-4} (\\omega -\\omega_c)^{3/2} D_s^{-1/2} q^{-1/2}$$\n",
    "\n",
    "with "
   ]
  },
  {
   "cell_type": "code",
   "execution_count": 3,
   "id": "38a5b8a7-0e14-474e-81c3-01f0055f3c9e",
   "metadata": {},
   "outputs": [
    {
     "data": {
      "text/plain": [
       "5.000000000000001"
      ]
     },
     "execution_count": 3,
     "metadata": {},
     "output_type": "execute_result"
    }
   ],
   "source": [
    "0.1**3/2 * 1e4"
   ]
  },
  {
   "cell_type": "code",
   "execution_count": 2,
   "id": "4aa403ed-dac8-4959-be7d-c21871ca52aa",
   "metadata": {},
   "outputs": [
    {
     "data": {
      "text/plain": [
       "0.05787037037037037"
      ]
     },
     "execution_count": 2,
     "metadata": {},
     "output_type": "execute_result"
    }
   ],
   "source": [
    "day = 24 * 3600.\n",
    "\n",
    "5000 / day"
   ]
  },
  {
   "cell_type": "code",
   "execution_count": null,
   "id": "c2c768db-6988-4cfb-aa16-8197dd9de83f",
   "metadata": {},
   "outputs": [],
   "source": []
  }
 ],
 "metadata": {
  "kernelspec": {
   "display_name": "Python 3",
   "language": "python",
   "name": "python3"
  },
  "language_info": {
   "codemirror_mode": {
    "name": "ipython",
    "version": 3
   },
   "file_extension": ".py",
   "mimetype": "text/x-python",
   "name": "python",
   "nbconvert_exporter": "python",
   "pygments_lexer": "ipython3",
   "version": "3.8.10"
  }
 },
 "nbformat": 4,
 "nbformat_minor": 5
}
